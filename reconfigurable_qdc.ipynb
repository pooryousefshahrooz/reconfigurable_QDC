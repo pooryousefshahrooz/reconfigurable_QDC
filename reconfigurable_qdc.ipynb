{
 "cells": [
  {
   "cell_type": "code",
   "execution_count": 2,
   "id": "6170af03-145f-4547-994d-587bdcaf9d53",
   "metadata": {},
   "outputs": [
    {
     "name": "stdout",
     "output_type": "stream",
     "text": [
      "Total time required to serve all requests: 3\n"
     ]
    }
   ],
   "source": [
    "import networkx as nx\n",
    "\n",
    "# Step 1: Define the graph\n",
    "G = nx.DiGraph()\n",
    "\n",
    "# Example: Adding edges with capacity and delay\n",
    "G.add_edge('A', 'B', capacity=10, delay=2)\n",
    "G.add_edge('B', 'C', capacity=5, delay=1)\n",
    "G.add_edge('A', 'C', capacity=15, delay=3)\n",
    "\n",
    "# Step 2: Helper function to get path delay and check for contention\n",
    "def get_path_and_delay(G, src, dest, packets, current_edge_usage):\n",
    "    try:\n",
    "        # Find the shortest path based on delay\n",
    "        path = nx.shortest_path(G, source=src, target=dest, weight='delay')\n",
    "    except nx.NetworkXNoPath:\n",
    "        return None, float('inf')  # No path found\n",
    "    \n",
    "    path_delay = 0\n",
    "    for u, v in zip(path[:-1], path[1:]):\n",
    "        capacity = G[u][v]['capacity']\n",
    "        delay = G[u][v]['delay']\n",
    "        \n",
    "        # Calculate waiting time if current usage exceeds capacity\n",
    "        used_capacity = current_edge_usage.get((u, v), 0)\n",
    "        if used_capacity + packets > capacity:\n",
    "            return None, float('inf')  # Conflict if packets exceed available capacity\n",
    "        \n",
    "        path_delay += delay * (1 + used_capacity // capacity)\n",
    "    \n",
    "    return path, path_delay\n",
    "\n",
    "# Step 3: Process requests in batches without contention\n",
    "def process_requests(G, requests):\n",
    "    total_time = 0\n",
    "    remaining_requests = requests[:]\n",
    "    current_edge_usage = {}\n",
    "\n",
    "    while remaining_requests:\n",
    "        batch_requests = []\n",
    "        next_remaining_requests = []\n",
    "        \n",
    "        # Collect non-overlapping requests for the current batch\n",
    "        for src, dest, packets in remaining_requests:\n",
    "            path, path_delay = get_path_and_delay(G, src, dest, packets, current_edge_usage)\n",
    "            \n",
    "            if path:\n",
    "                # Add the request to the batch if no contention\n",
    "                batch_requests.append((src, dest, packets, path, path_delay))\n",
    "                \n",
    "                # Update edge usage for the batch\n",
    "                for u, v in zip(path[:-1], path[1:]):\n",
    "                    current_edge_usage[(u, v)] = current_edge_usage.get((u, v), 0) + packets\n",
    "            else:\n",
    "                # Postpone this request to the next round due to contention\n",
    "                next_remaining_requests.append((src, dest, packets))\n",
    "        \n",
    "        # If batch is non-empty, process it and add its max delay to total time\n",
    "        if batch_requests:\n",
    "            max_batch_time = max(delay for _, _, _, _, delay in batch_requests)\n",
    "            total_time += max_batch_time\n",
    "        \n",
    "        # Clear edge usage after each batch\n",
    "        current_edge_usage.clear()\n",
    "        remaining_requests = next_remaining_requests\n",
    "\n",
    "    return total_time\n",
    "\n",
    "# Example requests\n",
    "requests = [\n",
    "    ('A', 'C', 5),  # (source, destination, packets)\n",
    "    ('A', 'B', 3),\n",
    "    ('B', 'C', 2),\n",
    "]\n",
    "\n",
    "# Compute total time to serve all requests\n",
    "time_required = process_requests(G, requests)\n",
    "print(f\"Total time required to serve all requests: {time_required}\")\n"
   ]
  },
  {
   "cell_type": "code",
   "execution_count": null,
   "id": "6cbc52aa-753c-402e-8823-2c5482579231",
   "metadata": {},
   "outputs": [],
   "source": []
  }
 ],
 "metadata": {
  "kernelspec": {
   "display_name": "Python 3 (ipykernel)",
   "language": "python",
   "name": "python3"
  },
  "language_info": {
   "codemirror_mode": {
    "name": "ipython",
    "version": 3
   },
   "file_extension": ".py",
   "mimetype": "text/x-python",
   "name": "python",
   "nbconvert_exporter": "python",
   "pygments_lexer": "ipython3",
   "version": "3.12.4"
  }
 },
 "nbformat": 4,
 "nbformat_minor": 5
}
