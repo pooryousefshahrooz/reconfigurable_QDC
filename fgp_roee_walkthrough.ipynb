{
 "cells": [
  {
   "cell_type": "markdown",
   "metadata": {},
   "source": [
    "**FGP-rOEEE**\n",
    "\n",
    "Implementation of algorithm used in https://dl.acm.org/doi/10.1145/3387902.3392617.\n",
    "\n",
    "The algorithm partitions a circuit in slices, using a graph for each time-step of the circuit, which includes large-weight (infinite) edges for interactions at the given time-step and time-decaying weights (exponential used here) for future interactions.\n",
    "\n",
    "The *partition* here is a list which tells us which partition each qubit is assigned to $[\\phi(q_0), \\phi(q_1),..., \\phi(q_{N_q})]$, which determines the local and non-local interactions. *Valid* partitions are defined as those for which all interactions at the current time-step are local. The final solution we are looking for is a list of valid partitions, one for each time-step of the circuit.\n",
    "\n",
    "The algorithm starts with some heuristic for providing a starting partition for the static interaction graph, which is a graph with all interactions from the circuit summed into edges. It is also possible here to specify an initial partition, such that an external initial partitioning heuristic can be used (use the choose initial kwarg). There is also a kwarg \"remove_singles\" which removes layers which have single qubit gates only. This reduces the depth but makes it harder to extract a circuit afterwards - I choose to keep the single qubit gates in so I can visualise the result afterwards, it does't make a complexity difference because these layers are automatically valid from the previous layer.\n",
    "\n",
    "The *main_algorithm* produces the list of graphs and performs the fgp algorithm to produce a list of partitions. It also tracks and returns a *mapping*, which is a one-to-one mapping of circuit qubits to physical qubits. It doesn't affect the teleportation cost, but it is useful for visualising the result."
   ]
  },
  {
   "cell_type": "code",
   "execution_count": null,
   "metadata": {},
   "outputs": [],
   "source": [
    "# %pip install qiskit networkx matplotlib pylatexenc\n",
    "#!pip install import-ipynb"
   ]
  },
  {
   "cell_type": "code",
   "execution_count": null,
   "metadata": {},
   "outputs": [
    {
     "name": "stdout",
     "output_type": "stream",
     "text": [
      "qpu_sizes [5, 5, 5, 5]\n",
      "initial_partition [0, 0, 0, 0, 0, 1, 1, 1, 1, 1, 2, 2, 2, 2, 2, 3, 3, 3, 3, 3]\n",
      "number of layers 392\n",
      "interactions  390\n",
      "num_of_gates_each_layer 390 390\n"
     ]
    }
   ],
   "source": [
    "import import_ipynb\n",
    "# from fgp_roee import *\n",
    "from fgp_roee import *\n",
    "from qiskit.circuit.library import QuantumVolume, QFT\n",
    "from qiskit import transpile\n",
    "import time\n",
    "\n",
    "# Define the number of qubits and the circuit\n",
    "num_qubits = 20\n",
    "circuit = QuantumVolume(num_qubits, depth=10, seed=10)\n",
    "# circuit = QFT(num_qubits)\n",
    "# Transpile the circuit into some basis gates. The gate set here was used to match those used in teh GCP paper, but it shouldn't matter which gates are used.\n",
    "basis_gates = ['cx','h', 'rz']\n",
    "# basis_gates = ['cp','u']\n",
    "transpiled_circuit = transpile(circuit, basis_gates=basis_gates)\n",
    "# Define the number of partitions\n",
    "num_partitions = 4\n",
    "# Define the QPU sizes in terms of data qubit capacity, here they are defined to be equal and match the number of qubits in the circuit.\n",
    "# Note that if the number of qubits in the circuit is odd, fully local partitions can be impossible. \n",
    "# E.g. if you have a 9 qubit circuit and 3x3 qubit QPUs, then you can't accomodate 4 pairs of qubits interacting at the same time, so you need to increase the size of the QPUs.\n",
    "\n",
    "qpu_sizes = [int(num_qubits/num_partitions) for _ in range(num_partitions)]\n",
    "print(\"qpu_sizes\",qpu_sizes)\n",
    "\n",
    "initial_partition = set_initial_partition(qpu_info=qpu_sizes,num_partitions=num_partitions)\n",
    "print(\"initial_partition\",initial_partition)\n",
    "start = time.time()\n",
    "partition, cost, mapping = main_algorithm(circuit=transpiled_circuit, qpu_info=qpu_sizes,initial_partition=initial_partition,remove_singles=False,choose_initial=True)\n",
    "stop = time.time()\n",
    "\n",
    "print(f\"Teleportation cost: {cost}\", f\"Time taken: {stop-start}\")\n",
    "print(type(mapping),len(mapping))\n",
    "# for item in mapping:\n",
    "#     print(type(item),item)\n",
    "\n",
    "# for part in partition:\n",
    "#     print(part)"
   ]
  },
  {
   "cell_type": "markdown",
   "metadata": {},
   "source": [
    "It can be interesting to view the result in the GCP graph framework too. This essentially a combined graph from each of the slices, where each node is connected to itself in the next graph. The black edges are the multi-qubit gates and the grey edges represent the teleportations (where they ccross the dividing line). If the algorithm is working correctly then only grey edges should cross after partitioning."
   ]
  },
  {
   "cell_type": "code",
   "execution_count": null,
   "metadata": {},
   "outputs": [],
   "source": [
    "initial_graph = build_initial_GCP_graph(transpiled_circuit,qpu_sizes)\n",
    "draw_graph_(initial_graph,qpu_sizes)\n",
    "\n",
    "final_graph = map_to_GCP_graph(transpiled_circuit,qpu_sizes,mapping)\n",
    "draw_graph_(final_graph,qpu_sizes)"
   ]
  },
  {
   "cell_type": "code",
   "execution_count": null,
   "metadata": {},
   "outputs": [],
   "source": []
  }
 ],
 "metadata": {
  "kernelspec": {
   "display_name": "Python 3 (ipykernel)",
   "language": "python",
   "name": "python3"
  },
  "language_info": {
   "codemirror_mode": {
    "name": "ipython",
    "version": 3
   },
   "file_extension": ".py",
   "mimetype": "text/x-python",
   "name": "python",
   "nbconvert_exporter": "python",
   "pygments_lexer": "ipython3",
   "version": "3.12.4"
  }
 },
 "nbformat": 4,
 "nbformat_minor": 4
}
